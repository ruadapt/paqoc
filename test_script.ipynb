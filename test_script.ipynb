{
 "cells": [
  {
   "cell_type": "code",
   "execution_count": 4,
   "metadata": {},
   "outputs": [
    {
     "name": "stderr",
     "output_type": "stream",
     "text": [
      "ibmqfactory.load_account:WARNING:2023-09-16 19:01:18,482: Credentials are already in use. The existing account in the session will be replaced.\n"
     ]
    }
   ],
   "source": [
    "from qiskit import IBMQ\n",
    "\n",
    "IBMQ.save_account(\"Please replace with your own token.\", overwrite=True)\n",
    "provider = IBMQ.load_account()"
   ]
  },
  {
   "cell_type": "code",
   "execution_count": 5,
   "metadata": {},
   "outputs": [
    {
     "name": "stdout",
     "output_type": "stream",
     "text": [
      "name: test\n",
      "init:nqubits: 5, ngates: 40\n",
      "exper_result/230916/testing_grami_approx_test.txt\n",
      "compiled:nqubits: 25, ngates: 43\n"
     ]
    }
   ],
   "source": [
    "from helper import generate_2d_grid_coupling\n",
    "from quantum_circuit_generator.generators import gen_supremacy, gen_uccsd,  gen_qft, gen_BV, gen_adder,  gen_hwea\n",
    "from qiskit import QuantumCircuit\n",
    "from qiskit.compiler import transpile\n",
    "\n",
    "prefix = 'exper_result/230916/testing'\n",
    "expr_name = 'grami_approx'\n",
    "fname = 'test'\n",
    "\n",
    "config = {'min_freq': 8, \n",
    "            'prune_method': 'critical', #default, c_c\n",
    "            'topk': 5, \n",
    "            'maxN': 3, \n",
    "            'merge_heuristic': 'approx', #random, approx2\n",
    "            'proctect_pattern': False, \n",
    "            'merge_cont1q': True, \n",
    "            'merge_cont2q': True, \n",
    "            'enable_grami': True}\n",
    "\n",
    "simulator_backend = provider.get_backend('ibmq_qasm_simulator')\n",
    "coupling_map = generate_2d_grid_coupling(5)\n",
    "# circ = gen_adder(nbits=8,a=0, b=0, use_toffoli=True, regname='q', barriers=False)\n",
    "circ = QuantumCircuit.from_qasm_file('Benchmarks/test/test.qasm')\n",
    "\n",
    "output_file = f'{prefix}_{expr_name}_{fname}.txt'\n",
    "print(f'name: {fname}\\ninit:nqubits: {circ.num_qubits}, ngates: {circ.size()}')\n",
    "print(output_file)\n",
    "\n",
    "circ = transpile(circ, \n",
    "                coupling_map=coupling_map, backend=simulator_backend, \n",
    "                layout_method='sabre',\n",
    "                routing_method = 'sabre',\n",
    "                seed_transpiler = 2021,\n",
    "                optimization_level = 0)\n",
    "print(f'compiled:nqubits: {circ.num_qubits}, ngates: {circ.size()}')"
   ]
  },
  {
   "cell_type": "code",
   "execution_count": 7,
   "metadata": {},
   "outputs": [
    {
     "name": "stdout",
     "output_type": "stream",
     "text": [
      "\tConvert dag to grami graph 0.0036\n",
      "\tUpload input graph 0.3853\n",
      "\tRunning GRAMI. 0.6310\n",
      "\tDownloading grami outputs. 0.5875\n",
      "\tGenerating frequent subcircuits from grami output. 0.0238\n",
      "nodes:\n",
      "\t (0, 'cx')\n",
      "\t (1, 'cx')\n",
      "\t (2, 'rz')\n",
      "edges:\n",
      "\t (0, 1, '0.0')\n",
      "\t (0, 2, '1.0')\n",
      "\t (2, 1, '0.1')\n",
      "\tConvert dag to grami graph 0.0025\n",
      "\tUpload input graph 0.3677\n",
      "\tRunning GRAMI. 0.3534\n",
      "\tDownloading grami outputs. 0.5687\n",
      "\tGenerating frequent subcircuits from grami output. 0.0046\n",
      "iter: 1\n",
      "\t# candidates: 5\n",
      "\tcalculate scores...Finish\n",
      "\n",
      "\tMerge 1 candidates...\n",
      "\tMerge 2 candidates...\n",
      "\tMerge 3 candidates...\n",
      "\tMerge 3 candidates...\n",
      "\tMerge 4 candidates...\n",
      "iter: 1, steps: 50 / [40-60] total_time: 25.0\n",
      "25.0 0.000993967\n",
      "iter: 2, steps: 45 / [40-50] total_time: 22.5\n",
      "22.5 0.0009945035\n",
      "iter: 3, steps: 42 / [40-45] total_time: 21.0\n",
      "21.0 0.0009908676\n",
      "iter: 4, steps: 41 / [40-42] total_time: 20.5\n",
      "20.5 0.0009977818\n",
      "iter: 1, steps: 30 / [20-40] total_time: 15.0\n",
      "15.0 0.0029233694\n",
      "iter: 2, steps: 35 / [30-40] total_time: 17.5\n",
      "17.5 0.003305912\n",
      "iter: 3, steps: 37 / [35-40] total_time: 18.5\n",
      "18.5 0.00099653\n",
      "iter: 4, steps: 36 / [35-37] total_time: 18.0\n",
      "18.0 0.002042532\n",
      "iter: 2\n",
      "\t# candidates: 0\n",
      "\tcalculate scores...Finish\n",
      "\n",
      "iter: 1, steps: 50 / [40-60] total_time: 25.0\n",
      "25.0 0.0009353161\n",
      "iter: 2, steps: 45 / [40-50] total_time: 22.5\n",
      "22.5 0.0009906292\n",
      "iter: 3, steps: 42 / [40-45] total_time: 21.0\n",
      "21.0 0.0009921193\n",
      "iter: 4, steps: 41 / [40-42] total_time: 20.5\n",
      "20.5 0.0009936094\n",
      "iter: 1, steps: 30 / [20-40] total_time: 15.0\n",
      "15.0 0.01284039\n",
      "iter: 2, steps: 35 / [30-40] total_time: 17.5\n",
      "17.5 0.007489562\n",
      "iter: 3, steps: 37 / [35-40] total_time: 18.5\n",
      "18.5 0.0020071864\n",
      "iter: 4, steps: 38 / [37-40] total_time: 19.0\n",
      "19.0 0.0009975433\n",
      "{'min_freq': 8, 'prune_method': 'critical', 'merge_heuristic': 'approx', 'maxN': 3, 'maxG': inf, 'proctect_pattern': False, 'merge_cont1q': True, 'merge_cont2q': True, 'enable_grami': True, 'circ_name': 'test', 'nqubits': 25, 'ngates': 43, 'grami_time': [5.732106199997361], 'grami_npatterns': [1], 'grami_gate_count': [Counter({'cx_rz_cx.70616': 10, 'h': 5, 'rx': 5, 'swap': 3})], 'merge1q_time': 0.00018400000408291817, 'merge1q_gate_count': Counter({'cx_rz_cx.70616': 10, 'h': 5, 'rx': 5, 'swap': 3}), 'merge2q_time': 0.011896299998625182, 'merge2q_gate_count': Counter({'cx_rz_cx.70616': 5, 'h_swap.5da7d': 3, 'cx_rz_cx.70616_rx.70616': 3, 'h_h_cx_rz_cx.70616.e1334': 1, 'cx_rz_cx.70616_rx_rx.70616': 1}), 'pamerge_niter': 2, 'pamerge_getT': [0.038463799995952286, 0.00012660000356845558], 'pamerge_selectT': [0.012042100002872758, 1.4999968698248267e-06], 'pamerge_mergeT': [0.009282200000598095, 3.9998849388211966e-07], 'pamerge_ncandidates': [5, 0], 'pamerge_nselected': [3, 0], 'pamerge_latency': [74.5, 74.5], 'pamerge_gate_count': [Counter({'cx_rz_cx.70616': 5, 'h_swap.5da7d': 2, 'h_h_cx_rz_cx.70616.e1334_h_swap.5da7d.79274': 1, 'cx_rz_cx.70616_rx.70616_cx_rz_cx.70616_rx.70616.0398b': 1, 'cx_rz_cx.70616_rx.70616_cx_rz_cx.70616_rx_rx.70616.0398b': 1}), Counter({'cx_rz_cx.70616': 5, 'h_swap.5da7d': 2, 'h_h_cx_rz_cx.70616.e1334_h_swap.5da7d.79274': 1, 'cx_rz_cx.70616_rx.70616_cx_rz_cx.70616_rx.70616.0398b': 1, 'cx_rz_cx.70616_rx.70616_cx_rz_cx.70616_rx_rx.70616.0398b': 1})], 'pamerge_compile_time': [480.79732110874386, 480.79732110874386], 'original_latency': 375.5, 'final_latency': 74.5, 'original_gate_count': Counter({'cx': 20, 'rz': 10, 'h': 5, 'rx': 5, 'swap': 3}), 'final_gate_count': Counter({'cx_rz_cx.70616': 5, 'h_swap.5da7d': 2, 'h_h_cx_rz_cx.70616.e1334_h_swap.5da7d.79274': 1, 'cx_rz_cx.70616_rx.70616_cx_rz_cx.70616_rx.70616.0398b': 1, 'cx_rz_cx.70616_rx.70616_cx_rz_cx.70616_rx_rx.70616.0398b': 1}), 'compile': 486.6014242087323, 'calcualted_fidelity': 0.0}\n"
     ]
    }
   ],
   "source": [
    "from paqoc import PAQOC\n",
    "import pickle\n",
    "\n",
    "paqoc = PAQOC(fname,\n",
    "                circ,\n",
    "                min_freq=config['min_freq'], \n",
    "                prune_method=config['prune_method'], \n",
    "                enable_grami = config['enable_grami'],\n",
    "                proctect_pattern = config['proctect_pattern'],\n",
    "                merge_cont1q = config['merge_cont1q'],\n",
    "                merge_cont2q = config['merge_cont2q'],\n",
    "                merge_heuristic = config['merge_heuristic'], \n",
    "                topk = config['topk'], \n",
    "                maxN = config['maxN'])\n",
    "paqoc.run()\n",
    "paqoc.save_to_pickle(output_file)\n",
    "with open(output_file, 'rb') as fp:\n",
    "    all_results = pickle.load(fp)\n",
    "    print(all_results)"
   ]
  }
 ],
 "metadata": {
  "kernelspec": {
   "display_name": "paqoc",
   "language": "python",
   "name": "python3"
  },
  "language_info": {
   "codemirror_mode": {
    "name": "ipython",
    "version": 3
   },
   "file_extension": ".py",
   "mimetype": "text/x-python",
   "name": "python",
   "nbconvert_exporter": "python",
   "pygments_lexer": "ipython3",
   "version": "3.11.5"
  },
  "orig_nbformat": 4
 },
 "nbformat": 4,
 "nbformat_minor": 2
}
